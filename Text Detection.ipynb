{
 "cells": [
  {
   "cell_type": "code",
   "execution_count": 30,
   "metadata": {},
   "outputs": [],
   "source": [
    "from PIL import Image\n",
    "from pytesseract import pytesseract\n",
    "import cv2 as cv2"
   ]
  },
  {
   "cell_type": "code",
   "execution_count": 3,
   "metadata": {},
   "outputs": [
    {
     "name": "stderr",
     "output_type": "stream",
     "text": [
      "WARNING: Skipping opencv-python-headless as it is not installed.\n"
     ]
    }
   ],
   "source": [
    "!pip uninstall opencv-python-headless==4.5.5.62"
   ]
  },
  {
   "cell_type": "code",
   "execution_count": 4,
   "metadata": {},
   "outputs": [
    {
     "name": "stdout",
     "output_type": "stream",
     "text": [
      "Collecting opencv-python-headless==4.1.2.30\n",
      "  Downloading opencv_python_headless-4.1.2.30-cp37-cp37m-win_amd64.whl (33.0 MB)\n",
      "     -------------------------------------- 33.0/33.0 MB 341.3 kB/s eta 0:00:00\n",
      "Requirement already satisfied: numpy>=1.14.5 in c:\\users\\oishi\\appdata\\local\\programs\\python\\python37\\lib\\site-packages (from opencv-python-headless==4.1.2.30) (1.21.6)\n",
      "Installing collected packages: opencv-python-headless\n",
      "Note: you may need to restart the kernel to use updated packages.\n"
     ]
    },
    {
     "name": "stderr",
     "output_type": "stream",
     "text": [
      "ERROR: Could not install packages due to an OSError: [WinError 5] Access is denied: 'c:\\\\Users\\\\Oishi\\\\AppData\\\\Local\\\\Programs\\\\Python\\\\Python37\\\\Lib\\\\site-packages\\\\cv2\\\\cv2.cp37-win_amd64.pyd'\n",
      "Consider using the `--user` option or check the permissions.\n",
      "\n"
     ]
    }
   ],
   "source": [
    "%pip install opencv-python-headless==4.1.2.30"
   ]
  },
  {
   "cell_type": "code",
   "execution_count": 31,
   "metadata": {},
   "outputs": [],
   "source": [
    "image = Image.open('C:/Users/Oishi/Downloads/FG3gClbUYAAuNiH.jpg')\n",
    "image = image.resize((400,200))\n",
    "image.save('sample.png')"
   ]
  },
  {
   "cell_type": "code",
   "execution_count": 32,
   "metadata": {},
   "outputs": [],
   "source": [
    "path_to_tesseract = r\"C:\\Program Files\\Tesseract-OCR\\tesseract.exe\"\n",
    "pytesseract.tesseract_cmd = path_to_tesseract"
   ]
  },
  {
   "cell_type": "code",
   "execution_count": 33,
   "metadata": {},
   "outputs": [
    {
     "name": "stdout",
     "output_type": "stream",
     "text": [
      "MUINDIA.MN.CO\n",
      "‘Computational Complexity of ML Algos\n",
      "\n",
      "Algor | __Applcaon _| _Talning_| Caicaton\n",
      "Nate Bayes ‘Ctasiction ows) | ov)\n",
      "Decision Tee [Chsiicwonnegesion| Oni) | OU)\n",
      "SYM Gane tae | Chsitcaiowtepession | O(n'f +m) | Olt S)\n",
      "KAN | Casio Regresion Our)\n",
      "Limcrnerenion | Reawion [oy tnay?) | OW)\n",
      "Random acs | Canificaiontepenion Ura)\n",
      "\n",
      "==\n"
     ]
    }
   ],
   "source": [
    "text = pytesseract.image_to_string(image)\n",
    "#print the text line by line without doing image pre-processing\n",
    "print(text[:-1])"
   ]
  },
  {
   "cell_type": "code",
   "execution_count": 19,
   "metadata": {},
   "outputs": [],
   "source": [
    "img = cv2.imread('C:/Users/Oishi/Downloads/FG3gClbUYAAuNiH.jpg')\n",
    "cv2.imshow('Image.jpg',img)\n",
    "cv2.waitKey(0)\n",
    "cv2.destroyAllWindows()"
   ]
  },
  {
   "cell_type": "code",
   "execution_count": 20,
   "metadata": {},
   "outputs": [],
   "source": [
    "gray = cv2.cvtColor(img, cv2.COLOR_BGR2GRAY)"
   ]
  },
  {
   "cell_type": "code",
   "execution_count": 21,
   "metadata": {},
   "outputs": [
    {
     "data": {
      "text/plain": [
       "True"
      ]
     },
     "execution_count": 21,
     "metadata": {},
     "output_type": "execute_result"
    }
   ],
   "source": [
    "ret, thresh1 = cv2.threshold(gray, 0, 255, cv2.THRESH_OTSU |\n",
    "                                          cv2.THRESH_BINARY_INV)\n",
    "cv2.imwrite('threshold_image.jpg',thresh1)"
   ]
  },
  {
   "cell_type": "code",
   "execution_count": 22,
   "metadata": {},
   "outputs": [],
   "source": [
    "rect_kernel = cv2.getStructuringElement(cv2.MORPH_RECT, (12, 12))"
   ]
  },
  {
   "cell_type": "code",
   "execution_count": 23,
   "metadata": {},
   "outputs": [
    {
     "data": {
      "text/plain": [
       "True"
      ]
     },
     "execution_count": 23,
     "metadata": {},
     "output_type": "execute_result"
    }
   ],
   "source": [
    "dilation = cv2.dilate(thresh1, rect_kernel, iterations = 3)\n",
    "cv2.imwrite('dilation_image.jpg',dilation)"
   ]
  },
  {
   "cell_type": "code",
   "execution_count": 24,
   "metadata": {},
   "outputs": [],
   "source": [
    "cv2.imshow('dilation_image.jpg',dilation)\n",
    "cv2.waitKey(0)\n",
    "cv2.destroyAllWindows()"
   ]
  },
  {
   "cell_type": "code",
   "execution_count": 25,
   "metadata": {},
   "outputs": [],
   "source": [
    "contours, hierarchy = cv2.findContours(dilation, cv2.RETR_EXTERNAL,cv2.CHAIN_APPROX_NONE)"
   ]
  },
  {
   "cell_type": "code",
   "execution_count": 26,
   "metadata": {},
   "outputs": [],
   "source": [
    "im2 = img.copy()"
   ]
  },
  {
   "cell_type": "code",
   "execution_count": 27,
   "metadata": {},
   "outputs": [],
   "source": [
    "for cnt in contours:\n",
    "    x, y, w, h = cv2.boundingRect(cnt)\n",
    "     \n",
    "    # Draw the bounding box on the text area\n",
    "    rect=cv2.rectangle(im2, (x, y), (x + w, y + h), (0, 255, 0), 2)\n",
    "     \n",
    "    # Crop the bounding box area\n",
    "    cropped = im2[y:y + h, x:x + w]\n",
    "    \n",
    "    cv2.imwrite('rectanglebox.jpg',rect)\n",
    "     \n",
    "    # open the text file\n",
    "    file = open(\"text_output2.txt\", \"a\")\n",
    "     \n",
    "    # Using tesseract on the cropped image area to get text\n",
    "    text = pytesseract.image_to_string(cropped)\n",
    "     \n",
    "    # Adding the text to the file\n",
    "    file.write(text)\n",
    "    file.write(\"\\n\")\n",
    "     \n",
    "    # Closing the file\n",
    "    file.close"
   ]
  },
  {
   "cell_type": "code",
   "execution_count": 28,
   "metadata": {},
   "outputs": [],
   "source": [
    "crop_number=0 \n",
    "for cnt in contours:\n",
    "    x, y, w, h = cv2.boundingRect(cnt)\n",
    "     \n",
    "    # Draw the bounding box on the text area\n",
    "    rect = cv2.rectangle(im2, (x, y), (x + w, y + h), (0, 255, 0), 2)\n",
    "     \n",
    "    # Crop the bounding box area\n",
    "    cropped = im2[y:y + h, x:x + w]\n",
    "    \n",
    "    cv2.imwrite(\"crop\"+str(crop_number)+\".jpeg\",cropped)\n",
    "    crop_number+=1\n",
    "    \n",
    "    cv2.imwrite('rectanglebox.jpg',rect)\n",
    "     \n",
    "    # open the text file\n",
    "    file = open(\"text_output2.txt\", \"a\")\n",
    "     \n",
    "    # Using tesseract on the cropped image area to get text\n",
    "    text = pytesseract.image_to_string(cropped)\n",
    "     \n",
    "    # Adding the text to the file\n",
    "    file.write(text)\n",
    "    file.write(\"\\n\") \n",
    "    # Closing the file\n",
    "    file.close"
   ]
  },
  {
   "cell_type": "code",
   "execution_count": 29,
   "metadata": {},
   "outputs": [],
   "source": [
    "cv2.imshow('rectanglebox.jpg',rect)\n",
    "cv2.waitKey(0)\n",
    "cv2.destroyAllWindows()"
   ]
  },
  {
   "cell_type": "code",
   "execution_count": 17,
   "metadata": {},
   "outputs": [
    {
     "data": {
      "text/plain": [
       "<_io.TextIOWrapper name='text_output2.txt' mode='a' encoding='cp1252'>"
      ]
     },
     "execution_count": 17,
     "metadata": {},
     "output_type": "execute_result"
    }
   ],
   "source": [
    "open(\"text_output2.txt\", \"a\")"
   ]
  },
  {
   "cell_type": "code",
   "execution_count": null,
   "metadata": {},
   "outputs": [],
   "source": []
  }
 ],
 "metadata": {
  "kernelspec": {
   "display_name": "Python 3.7.9 64-bit",
   "language": "python",
   "name": "python3"
  },
  "language_info": {
   "codemirror_mode": {
    "name": "ipython",
    "version": 3
   },
   "file_extension": ".py",
   "mimetype": "text/x-python",
   "name": "python",
   "nbconvert_exporter": "python",
   "pygments_lexer": "ipython3",
   "version": "3.7.9"
  },
  "orig_nbformat": 4,
  "vscode": {
   "interpreter": {
    "hash": "f7f08d2ba12ae58240324c93b37518f4835b7a1339b9388c367152b4175f522f"
   }
  }
 },
 "nbformat": 4,
 "nbformat_minor": 2
}
